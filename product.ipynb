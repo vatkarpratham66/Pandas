{
 "cells": [
  {
   "cell_type": "code",
   "execution_count": null,
   "id": "c7c8265a-4abd-4c43-bac6-968a43815103",
   "metadata": {},
   "outputs": [],
   "source": [
    "import pandas as pd\n",
    "import matplotlib.pyplot as plt\n",
    "\n",
    "file_path = r'C:\\Users\\PRATHAMESH\\OneDrive\\Pictures\\Camera Roll\\library\\numpydemo\\Diwali.csv'\n",
    "df = pd.read_csv(file_path, encoding='latin1')\n",
    "\n",
    "\n",
    "value_counts = df['Product_Category'].value_counts()\n",
    "print(value_counts)\n",
    "\n",
    "plt.figure(figsize=(12, 6))\n",
    "colors = [\n",
    "    'green' if value > 2000 else 'blue' if value > 1000 else 'red'\n",
    "    for value in value_counts  \n",
    "]\n",
    "plt.bar(value_counts.index, value_counts.values, color=colors, width=0.8)\n",
    "plt.title('Number of Orders by Product')\n",
    "plt.xlabel('Product ')\n",
    "plt.ylabel('Number of Products')\n",
    "plt.xticks(rotation=90)\n",
    "# Show the plot\n",
    "plt.tight_layout()\n",
    "plt.show()\n"
   ]
  }
 ],
 "metadata": {
  "kernelspec": {
   "display_name": "Python 3 (ipykernel)",
   "language": "python",
   "name": "python3"
  },
  "language_info": {
   "codemirror_mode": {
    "name": "ipython",
    "version": 3
   },
   "file_extension": ".py",
   "mimetype": "text/x-python",
   "name": "python",
   "nbconvert_exporter": "python",
   "pygments_lexer": "ipython3",
   "version": "3.12.5"
  }
 },
 "nbformat": 4,
 "nbformat_minor": 5
}
